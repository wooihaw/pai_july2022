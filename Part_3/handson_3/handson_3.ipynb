{
 "cells": [
  {
   "cell_type": "code",
   "execution_count": null,
   "metadata": {},
   "outputs": [],
   "source": [
    "# Initialization\n",
    "from warnings import filterwarnings\n",
    "filterwarnings('ignore')"
   ]
  },
  {
   "cell_type": "markdown",
   "metadata": {},
   "source": [
    "## Hands-on 3A\n",
    "### Regression\n",
    "#### Build a regression model to estimate the weight based on height"
   ]
  },
  {
   "cell_type": "code",
   "execution_count": 1,
   "metadata": {},
   "outputs": [],
   "source": [
    "from pandas import read_csv, get_dummies\n",
    "from sklearn.model_selection import train_test_split as split\n",
    "from sklearn.linear_model import LinearRegression\n",
    "\n",
    "df = read_csv('heights_weights_genders.csv')\n",
    "X1 = df.values[:, 0].reshape(-1, 1)\n",
    "y1 = df.values[:, 1]\n",
    "X1_train, X1_test, y1_train, y1_test = split(X1, y1, random_state=42)"
   ]
  },
  {
   "cell_type": "markdown",
   "metadata": {},
   "source": [
    "To do: \n",
    "- Build a linear regression model (name it as lnr1) to estimate weight using height\n",
    "- Evaluate the model's performance with R2 score"
   ]
  },
  {
   "cell_type": "code",
   "execution_count": 2,
   "metadata": {},
   "outputs": [
    {
     "name": "stdout",
     "output_type": "stream",
     "text": [
      "lnr1 score: 0.8573115456970967\n"
     ]
    }
   ],
   "source": [
    "lnr1 = LinearRegression().fit(X1_train, y1_train)\n",
    "print(f'lnr1 score: {lnr1.score(X1_test, y1_test)}')"
   ]
  },
  {
   "cell_type": "markdown",
   "metadata": {},
   "source": [
    "Ask user to provide the height to predict the weight"
   ]
  },
  {
   "cell_type": "code",
   "execution_count": 3,
   "metadata": {},
   "outputs": [
    {
     "name": "stdout",
     "output_type": "stream",
     "text": [
      "Enter height: 175\n",
      "Estimated weight is: [82.03843622]kg\n"
     ]
    }
   ],
   "source": [
    "h = eval(input('Enter height: '))\n",
    "print(f'Estimated weight is: {lnr1.predict([[h]])}kg')"
   ]
  },
  {
   "cell_type": "markdown",
   "metadata": {},
   "source": [
    "To do: \n",
    "- Build another regression model (lnr2) to estimate the weight based on height and gender\n",
    "- Ask user to provide height and gender to predict the weight"
   ]
  },
  {
   "cell_type": "code",
   "execution_count": 7,
   "metadata": {},
   "outputs": [
    {
     "name": "stdout",
     "output_type": "stream",
     "text": [
      "lnr2 score: 0.9026663813060709\n"
     ]
    }
   ],
   "source": [
    "df1 = get_dummies(df, drop_first=True)\n",
    "y2 = df1['Weight(kg)'].values\n",
    "del df1['Weight(kg)']\n",
    "X2 = df1.values\n",
    "\n",
    "X2_train, X2_test, y2_train, y2_test = split(X2, y2, random_state=42)\n",
    "lnr2 = LinearRegression().fit(X2_train, y2_train)\n",
    "print(f'lnr2 score: {lnr2.score(X2_test, y2_test)}')"
   ]
  },
  {
   "cell_type": "code",
   "execution_count": 9,
   "metadata": {},
   "outputs": [
    {
     "name": "stdout",
     "output_type": "stream",
     "text": [
      "Enter height: 175\n",
      "Enter gender (0 for female, 1 for male): 1\n",
      "Estimated weight is: [84.45653817]kg\n"
     ]
    }
   ],
   "source": [
    "h = eval(input('Enter height: '))\n",
    "g = eval(input('Enter gender (0 for female, 1 for male): '))\n",
    "print(f'Estimated weight is: {lnr2.predict([[h, g]])}kg')"
   ]
  },
  {
   "cell_type": "markdown",
   "metadata": {},
   "source": [
    "## Hands-on 3B \n",
    "### Classification\n",
    "#### Build 3 classification models for breast cancer detection"
   ]
  },
  {
   "cell_type": "code",
   "execution_count": 11,
   "metadata": {},
   "outputs": [],
   "source": [
    "from sklearn.datasets import load_breast_cancer\n",
    "from sklearn.model_selection import train_test_split as split, KFold, cross_val_score\n",
    "from sklearn.linear_model import LogisticRegression\n",
    "from sklearn.tree import DecisionTreeClassifier\n",
    "from sklearn.neighbors import KNeighborsClassifier\n",
    "from sklearn.feature_selection import SelectKBest\n",
    "from sklearn.decomposition import PCA\n",
    "\n",
    "cancer = load_breast_cancer()\n",
    "feature_names = cancer.feature_names\n",
    "target_names = cancer.target_names\n",
    "X = cancer.data\n",
    "y = cancer.target"
   ]
  },
  {
   "cell_type": "markdown",
   "metadata": {},
   "source": [
    "To do: Check the number of features in the dataset"
   ]
  },
  {
   "cell_type": "code",
   "execution_count": 12,
   "metadata": {},
   "outputs": [
    {
     "name": "stdout",
     "output_type": "stream",
     "text": [
      "Number of features: 30\n"
     ]
    }
   ],
   "source": [
    "print(f'Number of features: {X.shape[1]}')"
   ]
  },
  {
   "cell_type": "markdown",
   "metadata": {},
   "source": [
    "To do: Evaluate the performance of k-Nearest Neighbors, Logistic Regression and Decision Tree on this dataset using 5-fold cross validation."
   ]
  },
  {
   "cell_type": "code",
   "execution_count": 13,
   "metadata": {},
   "outputs": [
    {
     "name": "stdout",
     "output_type": "stream",
     "text": [
      "Model: knn, average score: 0.936686849868033, stdev score: 0.02809807834514385\n",
      "Model: lgr, average score: 0.9419655333022823, stdev score: 0.02976965422442454\n",
      "Model: dtc, average score: 0.9384878124514826, stdev score: 0.012407286165797164\n"
     ]
    }
   ],
   "source": [
    "# Spot-checking the performance of 3 classifiers\n",
    "models = []\n",
    "models.append(('knn', KNeighborsClassifier()))\n",
    "models.append(('lgr', LogisticRegression()))\n",
    "models.append(('dtc', DecisionTreeClassifier()))\n",
    "\n",
    "kf = KFold(n_splits=5, shuffle=True, random_state=42)\n",
    "for n, m in models:\n",
    "    scores = cross_val_score(m, X, y, cv=kf, n_jobs=-1)\n",
    "    print(f'Model: {n}, average score: {scores.mean()}, stdev score: {scores.std()}')\n",
    "    "
   ]
  },
  {
   "cell_type": "markdown",
   "metadata": {},
   "source": [
    "To do: Use Univariate Selection to select 10 best features. Evaluate the performance of k-Nearest Neighbors, Logistic Regression and Decision Tree on these features using 5-fold cross validation."
   ]
  },
  {
   "cell_type": "code",
   "execution_count": 14,
   "metadata": {},
   "outputs": [
    {
     "name": "stdout",
     "output_type": "stream",
     "text": [
      "Model: knn, average score: 0.9296693060083838, stdev score: 0.027839028415963876\n",
      "Model: lgr, average score: 0.9384412358329453, stdev score: 0.033868565007576394\n",
      "Model: dtc, average score: 0.9191274646793977, stdev score: 0.0171706009609979\n"
     ]
    }
   ],
   "source": [
    "fs = SelectKBest(k=10)\n",
    "X_fs = fs.fit_transform(X, y)\n",
    "\n",
    "for n, m in models:\n",
    "    scores = cross_val_score(m, X_fs, y, cv=kf, n_jobs=-1)\n",
    "    print(f'Model: {n}, average score: {scores.mean()}, stdev score: {scores.std()}')"
   ]
  },
  {
   "cell_type": "markdown",
   "metadata": {},
   "source": [
    "To do: Use Principle Component Analysis (PCA) to reduce the dimensionality of the original features to 10. Evaluate the performance of k-Nearest Neighbors, Logistic Regression and Decision Tree on these features using 5-fold cross validation."
   ]
  },
  {
   "cell_type": "code",
   "execution_count": 15,
   "metadata": {},
   "outputs": [
    {
     "name": "stdout",
     "output_type": "stream",
     "text": [
      "Model: knn, average score: 0.936686849868033, stdev score: 0.02809807834514385\n",
      "Model: lgr, average score: 0.9525073746312686, stdev score: 0.014452217629047156\n",
      "Model: dtc, average score: 0.9156342182890855, stdev score: 0.030708536001301735\n"
     ]
    }
   ],
   "source": [
    "dr = PCA(n_components=10)\n",
    "X_dr = dr.fit_transform(X)\n",
    "\n",
    "for n, m in models:\n",
    "    scores = cross_val_score(m, X_dr, y, cv=kf, n_jobs=-1)\n",
    "    print(f'Model: {n}, average score: {scores.mean()}, stdev score: {scores.std()}')"
   ]
  },
  {
   "cell_type": "markdown",
   "metadata": {},
   "source": [
    "## Hands-on 3C\n",
    "### Clustering\n",
    "#### Construct a model to group the truck drivers"
   ]
  },
  {
   "cell_type": "code",
   "execution_count": null,
   "metadata": {},
   "outputs": [],
   "source": [
    "import pandas as pd\n",
    "import matplotlib.pyplot as plt\n",
    "from sklearn.cluster import KMeans\n",
    "\n",
    "# Read dataset\n",
    "df = pd.read_csv('drivers.csv', sep='\\t', header=0)\n",
    "\n",
    "# Store features (Column 1 & 2)\n",
    "X = df.iloc[:, 1:].values\n",
    "\n",
    "# Apply k-mean clustering with 2 clusters\n",
    "km = KMeans(n_clusters=2).fit(X)\n",
    "\n",
    "plt.scatter(X[:, 0], X[:, 1], c=km.labels_)\n",
    "plt.show()"
   ]
  },
  {
   "cell_type": "markdown",
   "metadata": {},
   "source": [
    "To do: To group the truck drivers into 4 clusters and label the data samples according to their cluster"
   ]
  },
  {
   "cell_type": "code",
   "execution_count": null,
   "metadata": {},
   "outputs": [],
   "source": []
  },
  {
   "cell_type": "markdown",
   "metadata": {},
   "source": [
    "To do: Add labels to df and save it as a CSV file"
   ]
  },
  {
   "cell_type": "code",
   "execution_count": null,
   "metadata": {},
   "outputs": [],
   "source": []
  }
 ],
 "metadata": {
  "kernelspec": {
   "display_name": "Python 3 (ipykernel)",
   "language": "python",
   "name": "python3"
  },
  "language_info": {
   "codemirror_mode": {
    "name": "ipython",
    "version": 3
   },
   "file_extension": ".py",
   "mimetype": "text/x-python",
   "name": "python",
   "nbconvert_exporter": "python",
   "pygments_lexer": "ipython3",
   "version": "3.9.12"
  }
 },
 "nbformat": 4,
 "nbformat_minor": 4
}
